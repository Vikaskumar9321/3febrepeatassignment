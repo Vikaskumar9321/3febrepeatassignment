{
 "cells": [
  {
   "cell_type": "code",
   "execution_count": null,
   "id": "9ba8ccc9-89a2-4cac-bf49-60ba06df71dd",
   "metadata": {},
   "outputs": [
    {
     "name": "stdout",
     "output_type": "stream",
     "text": [
      "[3, 6, 9, 12, 15, 18, 21, 24]\n"
     ]
    }
   ],
   "source": [
    "#Ans 1\n",
    "oddlist = []\n",
    "def oddnum():\n",
    "    for i in range(1,26):\n",
    "        if i % 3 == 0:\n",
    "            oddlist.append(i)\n",
    "    return oddlist\n",
    "print(oddnum())"
   ]
  },
  {
   "cell_type": "markdown",
   "id": "5b27c164-74ca-4d02-be7a-cc8ce093c0d0",
   "metadata": {},
   "source": [
    "#Ans 2\n",
    "*args allows function to accept a variable number of non keyword arguments, which will be passed to the function as a tuple"
   ]
  },
  {
   "cell_type": "code",
   "execution_count": null,
   "id": "9b96ab3b-7acd-4e74-9cf6-bdbf0e45741c",
   "metadata": {},
   "outputs": [
    {
     "name": "stdout",
     "output_type": "stream",
     "text": [
      "55\n"
     ]
    }
   ],
   "source": [
    "#8args\n",
    "def add(*args):\n",
    "    sum = 0\n",
    "    for i in args:\n",
    "        sum = sum + i\n",
    "    return sum\n",
    "print(add(1,2,3,4,5,6,7,8,9,10))\n"
   ]
  },
  {
   "cell_type": "markdown",
   "id": "2c28cf1b-419f-41cd-ae47-4f9273fd971f",
   "metadata": {},
   "source": [
    "*kwargs allows a function to accept a variable number of keyword arguments, which will be passed to the function A  dictionary"
   ]
  },
  {
   "cell_type": "markdown",
   "id": "0abba708-9711-4eae-9372-ed17dc9a249c",
   "metadata": {},
   "source": [
    "def info1(**kwargs):\n",
    "    return kwargs"
   ]
  },
  {
   "cell_type": "code",
   "execution_count": 12,
   "id": "3a0b2a48-c2b1-442f-866e-b8cde42915ab",
   "metadata": {},
   "outputs": [],
   "source": [
    "def info1(**kwargs):\n",
    "    return kwargs"
   ]
  },
  {
   "cell_type": "code",
   "execution_count": 13,
   "id": "b1b54c69-6809-4d9b-ae2a-62a1e3319a56",
   "metadata": {},
   "outputs": [
    {
     "data": {
      "text/plain": [
       "{'a': [10, 20, 30, 40, 50],\n",
       " 'b': 'Vikas kumar',\n",
       " 'c': 35.09,\n",
       " 'd': ('ayush', 'thakur')}"
      ]
     },
     "execution_count": 13,
     "metadata": {},
     "output_type": "execute_result"
    }
   ],
   "source": [
    "\n",
    "info1(a = [10,20,30,40,50], b = \"Vikas kumar\", c = 35.09 , d = (\"ayush\", \"thakur\"))"
   ]
  },
  {
   "cell_type": "markdown",
   "id": "fa494098-ebb0-4148-a16d-818913e21d31",
   "metadata": {},
   "source": [
    "#ans3\n",
    "In Python, you can use the iter() function to initialize an iterator object, and the next() function to get the next value from the iterator."
   ]
  },
  {
   "cell_type": "code",
   "execution_count": 14,
   "id": "11a8f28d-d141-484a-ad67-cd2fdf9dd5be",
   "metadata": {},
   "outputs": [
    {
     "name": "stdout",
     "output_type": "stream",
     "text": [
      "2\n",
      "4\n",
      "6\n",
      "8\n",
      "10\n"
     ]
    }
   ],
   "source": [
    "numbers = [2, 4, 6, 8, 10, 12, 14, 16, 18, 20]\n",
    "#initialize the iterator object\n",
    "iter_obj = iter(numbers)\n",
    "#iterate through the first five elements\n",
    "for i in range(5):\n",
    "    print(next(iter_obj))"
   ]
  },
  {
   "cell_type": "markdown",
   "id": "d010b2f1-48da-40a5-b48b-383f8ff06a36",
   "metadata": {},
   "source": [
    "#Ans 4 A generator function is a specail type of function that allows you to generate a sequence of values using the \"yield\"\n",
    "keyword. unlike a normal function that retirn a values using the \"return\" keyword, a generator function retirns a geneartor object that you can iterate over to get the values in the sequence"
   ]
  },
  {
   "cell_type": "code",
   "execution_count": 15,
   "id": "d0b483ba-63fb-43f5-b7fa-5a69482e1c01",
   "metadata": {},
   "outputs": [
    {
     "name": "stdout",
     "output_type": "stream",
     "text": [
      "0\n",
      "2\n",
      "4\n",
      "6\n",
      "8\n"
     ]
    }
   ],
   "source": [
    "\n",
    "def even_num(n):\n",
    "    count = 0\n",
    "    num = 0\n",
    "    while count < n:\n",
    "        yield num\n",
    "        count = count + 1\n",
    "        num = num + 2\n",
    "evens = even_num(5)\n",
    "for i in  evens:\n",
    "    print(i)\n",
    "    "
   ]
  },
  {
   "cell_type": "code",
   "execution_count": null,
   "id": "a87cdc1d-0950-41cb-91f7-1acc34739373",
   "metadata": {},
   "outputs": [],
   "source": [
    "#Ans 5\n",
    "def primeNumber():\n",
    "    yield 2\n",
    "    primes = [2]\n",
    "    num = 3\n",
    "    while num < 1000:\n",
    "        is_prime = True\n",
    "        for prime in primes:\n",
    "            if prime > (num ** 0.5):\n",
    "                break\n",
    "            if num % prime == 0 :\n",
    "                is_prime = False\n",
    "                break\n",
    "        if is_prime:\n",
    "            primes.append(num)\n",
    "            num = num + 2\n",
    "primes = primeNumber()\n",
    "for i in range(20):\n",
    "    print(next(primes))"
   ]
  },
  {
   "cell_type": "code",
   "execution_count": null,
   "id": "1952b05a-e5bd-46ab-aa76-9337b4a4d360",
   "metadata": {},
   "outputs": [],
   "source": [
    "primeNumber()"
   ]
  },
  {
   "cell_type": "code",
   "execution_count": 5,
   "id": "5cb32d59-f909-4f1a-beec-80e155b871bb",
   "metadata": {},
   "outputs": [
    {
     "name": "stdin",
     "output_type": "stream",
     "text": [
      "Enter the any first ten number :-  10\n"
     ]
    },
    {
     "name": "stdout",
     "output_type": "stream",
     "text": [
      "0\n",
      "1\n",
      "1\n",
      "2\n",
      "3\n",
      "5\n",
      "8\n",
      "13\n",
      "21\n",
      "34\n"
     ]
    }
   ],
   "source": [
    "#ANs 6 \n",
    "num = int(input(\"Enter the any first ten number :- \"))\n",
    "a,b=0,1\n",
    "counter = 0\n",
    "while counter < num :\n",
    "    print(a)\n",
    "    c=a+b\n",
    "    a=b\n",
    "    b=c\n",
    "    counter = counter+1"
   ]
  },
  {
   "cell_type": "code",
   "execution_count": 6,
   "id": "d7863f65-7dc6-4ac9-bd36-f9fc03a3af5d",
   "metadata": {},
   "outputs": [
    {
     "name": "stdout",
     "output_type": "stream",
     "text": [
      "['p', 'w', 's', 'k', 'i', 'l', 'l', 's']\n"
     ]
    }
   ],
   "source": [
    "#ans 7\n",
    "string = \"pwskills\"\n",
    "characters = [char for char in string]\n",
    "print(characters)"
   ]
  },
  {
   "cell_type": "code",
   "execution_count": 5,
   "id": "a06b83b9-5514-4df0-b271-5dead64588d1",
   "metadata": {},
   "outputs": [
    {
     "name": "stdin",
     "output_type": "stream",
     "text": [
      "Enter a Number :-  100231\n"
     ]
    },
    {
     "name": "stdout",
     "output_type": "stream",
     "text": [
      "100231 is not palindrome\n"
     ]
    }
   ],
   "source": [
    "#Ans 8\n",
    "def is_palind(num):\n",
    "    original_num = num\n",
    "    reverse_num = 0\n",
    "    while num > 0:\n",
    "        digit = num % 10\n",
    "        reverse_num = (reverse_num * 10) + digit\n",
    "        num //=10\n",
    "    return original_num == reverse_num \n",
    "givin_num = int(input(\"Enter a Number :- \"))\n",
    "if is_palind(givin_num):\n",
    "    print(f\"{givin_num} is a palindrome\")\n",
    "else:\n",
    "    print(f\"{givin_num} is not palindrome\")"
   ]
  },
  {
   "cell_type": "code",
   "execution_count": 8,
   "id": "0fc33f5b-b769-4709-b464-241f78070d69",
   "metadata": {},
   "outputs": [
    {
     "name": "stdout",
     "output_type": "stream",
     "text": [
      "[3, 6, 9, 12, 15, 18, 21, 24, 27, 30, 33, 36, 39, 42, 45, 48, 51, 54, 57, 60, 63, 66, 69, 72, 75, 78, 81, 84, 87, 90, 93, 96, 99]\n"
     ]
    }
   ],
   "source": [
    "#Ans 9\n",
    "num = [number for number in range(1,101)]\n",
    "oddNum = [number for number in num if number % 3 == 0]\n",
    "print(oddNum)"
   ]
  },
  {
   "cell_type": "markdown",
   "id": "71bb1928-51c0-48d7-8c05-6dc7e027e957",
   "metadata": {},
   "source": [
    "#Sir Qus no 8 i am trying to think but sir i dnt know how to make it palindrome number using while loop \n",
    "and sir qus number 5 code is not give me a output and also not give me any kind of error"
   ]
  },
  {
   "cell_type": "code",
   "execution_count": null,
   "id": "ced36d47-409d-488f-a7b9-c2ba5329e977",
   "metadata": {},
   "outputs": [],
   "source": []
  }
 ],
 "metadata": {
  "kernelspec": {
   "display_name": "Python 3 (ipykernel)",
   "language": "python",
   "name": "python3"
  },
  "language_info": {
   "codemirror_mode": {
    "name": "ipython",
    "version": 3
   },
   "file_extension": ".py",
   "mimetype": "text/x-python",
   "name": "python",
   "nbconvert_exporter": "python",
   "pygments_lexer": "ipython3",
   "version": "3.10.8"
  }
 },
 "nbformat": 4,
 "nbformat_minor": 5
}
